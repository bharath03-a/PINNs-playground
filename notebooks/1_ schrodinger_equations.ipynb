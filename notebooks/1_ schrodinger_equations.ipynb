{
 "cells": [
  {
   "cell_type": "markdown",
   "id": "361222ea",
   "metadata": {},
   "source": [
    "**NOTE:** The below implementation is highly inspired from he PINN paper from 2019 and their open source repository, the data and model architecture has been referenced from there."
   ]
  },
  {
   "cell_type": "code",
   "execution_count": 21,
   "id": "f5a7d45a",
   "metadata": {},
   "outputs": [],
   "source": [
    "# importing the libraries\n",
    "\n",
    "import tensorflow as tf\n",
    "import numpy as np\n",
    "import matplotlib.pyplot as plt\n",
    "import seaborn as sns\n",
    "import scipy.io\n",
    "from pyDOE import lhs"
   ]
  },
  {
   "cell_type": "markdown",
   "id": "aac46a09",
   "metadata": {},
   "source": [
    "### Data Preparation"
   ]
  },
  {
   "cell_type": "code",
   "execution_count": 3,
   "id": "eafbf94d",
   "metadata": {},
   "outputs": [],
   "source": [
    "# Domain boundaries\n",
    "\n",
    "x_min, x_max = -5.0, 5.0\n",
    "t_min, t_max = 0.0, np.pi/2\n",
    "\n",
    "lb = np.array([x_min, t_min])\n",
    "ub = np.array([x_max, t_max])\n",
    "\n",
    "# lb - lower bound, ub - upper bound\n",
    "\n",
    "N0 = 20\n",
    "N_b = 20\n",
    "N_f = 10000\n",
    "\n",
    "# N0 - number of points in the initial condition, \n",
    "# N_b - number of points in the boundary condition, \n",
    "# N_f - number of points in the interior domain\n",
    "\n",
    "layers = [2, 50, 50, 50, 50, 2]"
   ]
  },
  {
   "cell_type": "code",
   "execution_count": 6,
   "id": "7391921b",
   "metadata": {},
   "outputs": [],
   "source": [
    "data = scipy.io.loadmat('../data/NLS.mat')"
   ]
  },
  {
   "cell_type": "code",
   "execution_count": 11,
   "id": "bd98a075",
   "metadata": {},
   "outputs": [
    {
     "data": {
      "text/plain": [
       "['__header__', '__version__', '__globals__', 'tt', 'uu', 'x']"
      ]
     },
     "execution_count": 11,
     "metadata": {},
     "output_type": "execute_result"
    }
   ],
   "source": [
    "list(data.keys())"
   ]
  },
  {
   "cell_type": "markdown",
   "id": "46ef2711",
   "metadata": {},
   "source": [
    "`tt` - Time Grid\n",
    "\n",
    "`uu` - Full Solution Array\n",
    "\n",
    "`x` - Spatial Grid"
   ]
  },
  {
   "cell_type": "code",
   "execution_count": 14,
   "id": "8dee1715",
   "metadata": {},
   "outputs": [
    {
     "name": "stdout",
     "output_type": "stream",
     "text": [
      "Shape of time grid: (1, 201)\n",
      "Shape of solution array: (256, 201)\n",
      "Shape of spatial grid: (1, 256)\n"
     ]
    }
   ],
   "source": [
    "print(f\"Shape of time grid: {data['tt'].shape}\")\n",
    "print(f\"Shape of solution array: {data['uu'].shape}\")\n",
    "print(f\"Shape of spatial grid: {data['x'].shape}\")\n"
   ]
  },
  {
   "cell_type": "code",
   "execution_count": 18,
   "id": "bea42fc7",
   "metadata": {},
   "outputs": [],
   "source": [
    "t = data['tt'].flatten()[:, None]\n",
    "x = data['x'].flatten()[:, None]\n",
    "Exact = data['uu']\n",
    "Exact_u = np.real(Exact)\n",
    "Exact_v = np.imag(Exact)\n",
    "\n",
    "Exact_h_modulus = np.sqrt(Exact_u**2 + Exact_v**2)\n",
    "\n",
    "# h = u + iv\n",
    "# h_modulus = sqrt(u^2 + v^2)"
   ]
  },
  {
   "cell_type": "code",
   "execution_count": 17,
   "id": "a0a100e5",
   "metadata": {},
   "outputs": [
    {
     "name": "stdout",
     "output_type": "stream",
     "text": [
      "Shape of exact solution: (256, 201)\n",
      "Shape of time grid: (201, 1)\n",
      "Shape of spatial grid: (256, 1)\n"
     ]
    }
   ],
   "source": [
    "print(f\"Shape of exact solution: {Exact.shape}\")\n",
    "print(f\"Shape of time grid: {t.shape}\")\n",
    "print(f\"Shape of spatial grid: {x.shape}\")\n"
   ]
  },
  {
   "cell_type": "code",
   "execution_count": 20,
   "id": "25b92aff",
   "metadata": {},
   "outputs": [
    {
     "name": "stdout",
     "output_type": "stream",
     "text": [
      "Shape of u_star: (51456, 1)\n",
      "Shape of v_star: (51456, 1)\n",
      "Shape of h_star: (51456, 1)\n",
      "Shape of X_star: (51456, 2)\n"
     ]
    }
   ],
   "source": [
    "X, T = np.meshgrid(x, t)\n",
    "\n",
    "X_star = np.hstack((X.flatten()[:, None], T.flatten()[:, None]))\n",
    "\n",
    "u_star = Exact_u.flatten()[:, None]\n",
    "v_star = Exact_v.flatten()[:, None]\n",
    "h_star = Exact_h_modulus.flatten()[:, None]\n",
    "\n",
    "print(f\"Shape of u_star: {u_star.shape}\")\n",
    "print(f\"Shape of v_star: {v_star.shape}\")\n",
    "print(f\"Shape of h_star: {h_star.shape}\")\n",
    "print(f\"Shape of X_star: {X_star.shape}\")\n",
    "\n",
    "# X_star - spatial and temporal grid\n",
    "# u_star - real part of the solution\n",
    "# v_star - imaginary part of the solution\n",
    "# h_star - modulus of the solution"
   ]
  },
  {
   "cell_type": "code",
   "execution_count": 23,
   "id": "d39340bd",
   "metadata": {},
   "outputs": [],
   "source": [
    "idx_x = np.random.choice(x.shape[0], N0, replace=False)\n",
    "\n",
    "x0 = x[idx_x,:]\n",
    "u0 = Exact_u[idx_x,0:1]\n",
    "v0 = Exact_v[idx_x,0:1]\n",
    "\n",
    "idx_t = np.random.choice(t.shape[0], N_b, replace=False)\n",
    "t_b = t[idx_t,:]\n",
    "\n",
    "X_f = lb + (ub - lb) * lhs(2, N_f)\n",
    "\n",
    "# x0 - selected x points from the initial condition where t = 0\n",
    "# u0 - real part of the initial condition\n",
    "# v0 - imaginary part of the initial condition\n",
    "\n",
    "\n",
    "# t_b - time values at which the spatial boundaries will be sampled.\n",
    "# X_f - interior points (xf, tf) used to enforce the PDE via the residuals f_u and f_v.\n"
   ]
  },
  {
   "cell_type": "markdown",
   "id": "264abb62",
   "metadata": {},
   "source": [
    "`lhs(2, N_f)`: Latin Hypercube Sampling of 2D space ([0,1]^2) to get N_f points.\n",
    "\n",
    "| Set                       | How sampled                     | Domain             | Purpose                           |\n",
    "| ------------------------- | ------------------------------- | ------------------ | --------------------------------- |\n",
    "| `x0, u0, v0`              | random `N0` spatial points      | t=0                | **initial condition**             |\n",
    "| `tb` (used in X_lb, X_ub) | random `Nb` time points         | x=lb, ub           | **boundary condition**            |\n",
    "| `X_f`                     | `Nf` points via Latin Hypercube | interior 2D domain | **collocation / PDE enforcement** |\n"
   ]
  },
  {
   "cell_type": "markdown",
   "id": "0f541825",
   "metadata": {},
   "source": [
    "Now that the data preparation is complete, we move on to **modeling the neural network**. \n",
    "\n",
    "- The datasets `x0`, `u0`, `v0`, `tb`, and `X_f` are used to **compute the PINN’s loss function** during training:\n",
    "\n",
    "  - **Initial condition points** (`x0`, `u0`, `v0`):  \n",
    "    These are spatial points at \\(t=0\\) and enforce the initial state of the system.\n",
    "\n",
    "  - **Boundary condition points** (`tb`, `lb`, `ub`):  \n",
    "    These correspond to time points at the spatial boundaries and enforce constraints at the edges of the domain.\n",
    "\n",
    "  - **Collocation points** (`X_f`):  \n",
    "    These are points in the interior of the domain where the PDE residuals are enforced, ensuring the neural network satisfies the governing equations.\n",
    "\n",
    "- The `_star` datasets (e.g., `X_star`, `u_star`, `v_star`, `h_star`) represent the **full reference solution on a dense grid**, which is used for **prediction, evaluation, and error computation** after training. These points are **not used in computing the loss**, but serve as a benchmark to assess the accuracy of the network’s predictions.\n",
    "\n",
    "**Summary:**  \n",
    "- `x0, u0, v0, tb, X_f` → **training points** used to enforce physics, initial, and boundary conditions.  \n",
    "- `_star` values → **evaluation points** used to validate the model’s performance."
   ]
  },
  {
   "cell_type": "code",
   "execution_count": null,
   "id": "c24563d1",
   "metadata": {},
   "outputs": [],
   "source": [
    "\"\"\"\n",
    "    t_max |-----------------------------|\n",
    "      |                             |\n",
    "      |                             |\n",
    "      |          X_f points         |   <-- collocation points (interior)\n",
    "      |                             |\n",
    "  tb  | o                           o|   <-- boundary points in time\n",
    "      |                             |\n",
    " t=0  | x0 points ------------------|   <-- initial condition points\n",
    "      |                             |\n",
    "      |-----------------------------|\n",
    "      x_min                       x_max\n",
    "\n",
    "\"\"\""
   ]
  },
  {
   "cell_type": "code",
   "execution_count": null,
   "id": "3dcd638d",
   "metadata": {},
   "outputs": [],
   "source": []
  }
 ],
 "metadata": {
  "kernelspec": {
   "display_name": ".venv",
   "language": "python",
   "name": "python3"
  },
  "language_info": {
   "codemirror_mode": {
    "name": "ipython",
    "version": 3
   },
   "file_extension": ".py",
   "mimetype": "text/x-python",
   "name": "python",
   "nbconvert_exporter": "python",
   "pygments_lexer": "ipython3",
   "version": "3.11.0"
  }
 },
 "nbformat": 4,
 "nbformat_minor": 5
}
